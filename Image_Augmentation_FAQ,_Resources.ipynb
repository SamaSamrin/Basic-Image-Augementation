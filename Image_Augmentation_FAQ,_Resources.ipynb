{
  "nbformat": 4,
  "nbformat_minor": 0,
  "metadata": {
    "colab": {
      "provenance": [],
      "authorship_tag": "ABX9TyNI7/4V4bD6KidPfXhCo//G",
      "include_colab_link": true
    },
    "kernelspec": {
      "name": "python3",
      "display_name": "Python 3"
    },
    "language_info": {
      "name": "python"
    }
  },
  "cells": [
    {
      "cell_type": "markdown",
      "metadata": {
        "id": "view-in-github",
        "colab_type": "text"
      },
      "source": [
        "<a href=\"https://colab.research.google.com/github/SamaSamrin/Basic-Image-Augementation/blob/main/Image_Augmentation_FAQ%2C_Resources.ipynb\" target=\"_parent\"><img src=\"https://colab.research.google.com/assets/colab-badge.svg\" alt=\"Open In Colab\"/></a>"
      ]
    },
    {
      "cell_type": "markdown",
      "metadata": {
        "id": "MGDIlW_P-V7u"
      },
      "source": [
        "# FAQ\n",
        "\n",
        "**Why convert image into arrays?**\n",
        "\n",
        "Converting an image to an array is an important task to train a machine learning model based on the features of an image. This allows maximum inter-operability with other libraries in the scientific Python ecosystem, such as matplotlib and scipy .\n",
        "\n",
        "**What is PIL?**\n",
        "\n",
        "PIL = Python Imaging Library, adds image processing capabilities to your Python interpreter.\n",
        "\n",
        "**Why we reshape images?**\n",
        "\n",
        "To match the expected input shape of a neural network\n",
        "\n",
        "**What is a sandbox?**\n",
        "\n",
        "A sandbox is an **isolated testing environment** that enables users to run programs or open files without affecting the application, system or platform on which they run. Software developers use sandboxes to test new programming code. Cybersecurity professionals use sandboxes to test potentially malicious software."
      ]
    },
    {
      "cell_type": "markdown",
      "metadata": {
        "id": "dGILtRZ6pf88"
      },
      "source": [
        "# Useful Resources\n",
        "\n",
        "* https://machinelearningmastery.com/how-to-configure-image-data-augmentation-when-training-deep-learning-neural-networks/\n",
        "\n",
        "**Coding**\n",
        "\n",
        "* https://www.tensorflow.org/api_docs/python/tf/keras/preprocessing/image/ImageDataGenerator\n",
        "\n",
        "* https://towardsdatascience.com/exploring-image-data-augmentation-with-keras-and-tensorflow-a8162d89b844\n",
        "\n",
        "**Plotting:**\n",
        "\n",
        "https://stackoverflow.com/questions/12444716/how-do-i-set-the-figure-title-and-axes-labels-font-size"
      ]
    }
  ]
}